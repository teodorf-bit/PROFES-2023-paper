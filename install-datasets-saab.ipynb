{
 "cells": [
  {
   "cell_type": "code",
   "execution_count": 1,
   "id": "5f389807-10c4-448d-a92c-6341863b55f6",
   "metadata": {},
   "outputs": [
    {
     "name": "stdout",
     "output_type": "stream",
     "text": [
      "1.2.2\n",
      "1    3686\n",
      "0     936\n",
      "Name: class, dtype: int64\n"
     ]
    }
   ],
   "source": [
    "import pandas as pd\n",
    "import numpy as np\n",
    "import sklearn\n",
    "from sklearn import preprocessing\n",
    "import os\n",
    "import GraphLearning.graphlearning as gl\n",
    "print(sklearn.__version__)\n",
    "# Prepare data, remove unlabeled instances.\n",
    "data = pd.read_csv(\"/mimer/NOBACKUP/groups/deep-ssl/saab/Pseudo-Labelling/detection_dataset_obfuscated.csv\",index_col=0)\n",
    "data = data.sample(frac=1)\n",
    "\n",
    "\n",
    "features, labels = data.data, data[\"class\"]\n",
    "unlab_features = np.array(features[labels==\"Probably Drone\"])\n",
    "features, labels = features[labels!=\"Probably Drone\"], labels[labels!=\"Probably Drone\"]\n",
    "lab_data = pd.concat([labels, features], axis=1)\n",
    "\n",
    "# Model on imbalance data\n",
    "le = sklearn.preprocessing.LabelEncoder()\n",
    "le.fit(lab_data[\"class\"])\n",
    "lab_data[\"class\"] = le.transform(lab_data[\"class\"])\n",
    "print(lab_data[\"class\"].value_counts())"
   ]
  },
  {
   "cell_type": "code",
   "execution_count": 2,
   "id": "4afe2efe-96c1-4ebf-8df6-a4e00d625292",
   "metadata": {},
   "outputs": [],
   "source": [
    "preprocessed_features = np.zeros((len(features),168),complex)\n",
    "for i in range(len(features)):\n",
    "    x = np.fromstring(features[i][1:len(features[i])-1].replace(\"]\",\"\").replace(\"[\",\"\"), sep=\";\", dtype=complex)\n",
    "    preprocessed_features[i] = x\n",
    "\n",
    "preprocessed_features = pd.DataFrame(preprocessed_features)\n",
    "\n",
    "unlab_preprocessed_features = np.zeros((len(unlab_features),168),complex)\n",
    "for i in range(len(unlab_features)):\n",
    "    x = np.fromstring(unlab_features[i][1:len(unlab_features[i])-1].replace(\"]\",\"\").replace(\"[\",\"\"), sep=\";\", dtype=complex)\n",
    "    unlab_preprocessed_features[i] = x\n",
    "    \n",
    "unlab_preprocessed_features = pd.DataFrame(unlab_preprocessed_features)\n",
    "\n",
    "lab_data = pd.concat([lab_data[\"class\"],preprocessed_features],axis=1)\n",
    "unlab_features = np.real(unlab_preprocessed_features)\n",
    "features = np.real(preprocessed_features)\n",
    "labels = lab_data[\"class\"]"
   ]
  },
  {
   "cell_type": "code",
   "execution_count": 3,
   "id": "e7bc5ad7-3d81-4dce-9534-f97e75a812f2",
   "metadata": {},
   "outputs": [
    {
     "data": {
      "text/plain": [
       "4622"
      ]
     },
     "execution_count": 3,
     "metadata": {},
     "output_type": "execute_result"
    }
   ],
   "source": [
    "labels = np.array(lab_data[\"class\"])\n",
    "data = np.array(features, dtype=np.float32)\n",
    "len(labels)"
   ]
  },
  {
   "cell_type": "code",
   "execution_count": 4,
   "id": "d4984065-1fd6-4c5f-bd05-893178c29efe",
   "metadata": {},
   "outputs": [],
   "source": [
    "from sklearn.utils import shuffle\n",
    "\n",
    "I1 = np.arange(len(data))\n",
    "I = np.transpose(np.array([I1,I1,I1,I1,I1,I1,I1,I1,I1,I1,I1,I1,I1,I1,I1,I1,I1,I1,I1,I1,I1,I1,I1,I1,I1,I1,I1,I1,I1,I1]))"
   ]
  },
  {
   "cell_type": "code",
   "execution_count": 8,
   "id": "d13af2bd-59fd-409b-8aaf-9775314289b1",
   "metadata": {},
   "outputs": [],
   "source": [
    "I2 = shuffle(I1)\n",
    "I3 = shuffle(I2)\n",
    "I4 = shuffle(I3)\n",
    "I5 = shuffle(I4)\n",
    "I6 = shuffle(I5)\n",
    "I7 = shuffle(I6)\n",
    "I8 = shuffle(I7)\n",
    "I9 = shuffle(I8)\n",
    "I10 = shuffle(I9)\n",
    "I11 = shuffle(I10)\n",
    "I12 = shuffle(I11)\n",
    "I13 = shuffle(I12)\n",
    "I14 = shuffle(I13)\n",
    "I15 = shuffle(I14)\n",
    "I16 = shuffle(I15)\n",
    "I17 = shuffle(I16)\n",
    "I18 = shuffle(I17)\n",
    "I19 = shuffle(I18)\n",
    "I20 = shuffle(I19)\n",
    "I21 = shuffle(I20)\n",
    "I22 = shuffle(I21)\n",
    "I23 = shuffle(I22)\n",
    "I24 = shuffle(I23)\n",
    "I25 = shuffle(I24)\n",
    "I26 = shuffle(I25)\n",
    "I27 = shuffle(I26)\n",
    "I28 = shuffle(I27)\n",
    "I29 = shuffle(I28)\n",
    "I30 = shuffle(I29)"
   ]
  },
  {
   "cell_type": "code",
   "execution_count": 11,
   "id": "315f3b07-28b0-4b49-b8a8-151619c9e6d8",
   "metadata": {},
   "outputs": [],
   "source": [
    "J = np.transpose(np.array([I1, I2, I3, I4, I5, I6, I7, I8, I9, I10, I11, I12, I13, I14, I15, I16, I17, I18, I19, I20, I21, I22, I23, I24, I25, I26, I27, I28, I29, I30]))\n",
    "D = data"
   ]
  },
  {
   "cell_type": "code",
   "execution_count": 12,
   "id": "f73c5e4f-b84a-44cb-9e07-a6134b27b673",
   "metadata": {},
   "outputs": [],
   "source": [
    "gl.datasets.save(D, I, J, labels, \"saab\", overwrite=True)"
   ]
  },
  {
   "cell_type": "code",
   "execution_count": 13,
   "id": "69fca22d-7101-4394-ab1a-ee98eab4eca5",
   "metadata": {},
   "outputs": [],
   "source": [
    "cp /GraphLearning/data/saab_raw.npz /GraphLearning/knn_data/saab_raw.npz"
   ]
  },
  {
   "cell_type": "code",
   "execution_count": 14,
   "id": "13f2eab0-a810-4772-8ee8-b64eaecac20e",
   "metadata": {},
   "outputs": [],
   "source": [
    "cp /GraphLearning/data/saab_labels.npz /GraphLearning/knn_data/saab-labels.npz"
   ]
  },
  {
   "cell_type": "code",
   "execution_count": 15,
   "id": "32d984d2-d0c9-47ed-93b9-e0eeb0a49cf8",
   "metadata": {},
   "outputs": [],
   "source": [
    "rm -rf /GraphLearning/data/saab_raw.npz"
   ]
  },
  {
   "cell_type": "code",
   "execution_count": 16,
   "id": "1d0da838-4f03-45ea-b7e4-f9c557a6b02b",
   "metadata": {},
   "outputs": [],
   "source": [
    "rm -rf /GraphLearning/data/saab_raw.np"
   ]
  },
  {
   "cell_type": "code",
   "execution_count": 17,
   "id": "2a2f0bf9-01b7-47e2-87aa-e19e78034196",
   "metadata": {},
   "outputs": [],
   "source": [
    "rate = np.array([[0.1, 0.1],[0.25, 0.25],[0.50, 0.50],[0.75, 0.75],[0.9, 0.9]])"
   ]
  },
  {
   "cell_type": "code",
   "execution_count": 18,
   "id": "5685cd42-8632-4e50-aa72-c30435728a0d",
   "metadata": {},
   "outputs": [],
   "source": [
    "z = gl.trainsets.generate(labels, rate=rate, dataset=\"saab\", num_trials=500, overwrite=True)"
   ]
  },
  {
   "cell_type": "code",
   "execution_count": null,
   "id": "ade94701-534b-44bd-94c9-45ea478fe4ca",
   "metadata": {},
   "outputs": [],
   "source": [
    "labels"
   ]
  }
 ],
 "metadata": {
  "kernelspec": {
   "display_name": "Python 3 (ipykernel)",
   "language": "python",
   "name": "python3"
  },
  "language_info": {
   "codemirror_mode": {
    "name": "ipython",
    "version": 3
   },
   "file_extension": ".py",
   "mimetype": "text/x-python",
   "name": "python",
   "nbconvert_exporter": "python",
   "pygments_lexer": "ipython3",
   "version": "3.8.17"
  }
 },
 "nbformat": 4,
 "nbformat_minor": 5
}
